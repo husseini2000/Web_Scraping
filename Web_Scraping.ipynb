{
 "cells": [
  {
   "cell_type": "markdown",
   "metadata": {},
   "source": [
    "## Importing necessary libraries"
   ]
  },
  {
   "cell_type": "markdown",
   "metadata": {},
   "source": [
    "Let's import the required packages which you will use to scrape the data from the website and visualize it with the help of seaborn, matplotlib."
   ]
  },
  {
   "cell_type": "code",
   "execution_count": 1,
   "metadata": {},
   "outputs": [],
   "source": [
    "import pandas as pd\n",
    "import numpy as np\n",
    "import matplotlib.pyplot as plt\n",
    "import seaborn as sns\n",
    "%matplotlib inline\n",
    "# import re\n",
    "import time\n",
    "from bs4 import BeautifulSoup\n",
    "import requests"
   ]
  },
  {
   "cell_type": "markdown",
   "metadata": {},
   "source": [
    "## Scraping The Arabic Library Books"
   ]
  },
  {
   "cell_type": "markdown",
   "metadata": {},
   "source": [
    "This URL that you are going to scrape is the following:\n",
    "https://www.arab-books.com/)The page argument can be modified to access data for each page.\n",
    "Hence, to access all the pages you will need to loop through all the pages to get the necessary dataset, but first, you need to find out the number of pages from the website."
   ]
  },
  {
   "attachments": {
    "pages.No.png": {
     "image/png": "[encoded data removed]"
    }
   },
   "cell_type": "markdown",
   "metadata": {},
   "source": [
    "![pages.No.png](attachment:pages.No.png)"
   ]
  },
  {
   "cell_type": "markdown",
   "metadata": {},
   "source": [
    "To connect to the URL and fetch the HTML content following things are required:\n",
    "1. Define number of pages that contains books and number of books in each page.\n",
    "2. Define empty list to store all links of books.\n",
    "3. Specify the URL to requests.get\n",
    "4. Extract the content from requests.get,\n",
    "5. Scrape the specified page and assign it to soup variable"
   ]
  },
  {
   "cell_type": "markdown",
   "metadata": {},
   "source": [
    "## Collecting the books’ URLs"
   ]
  },
  {
   "cell_type": "code",
   "execution_count": 2,
   "metadata": {},
   "outputs": [],
   "source": [
    "num_of_pages = 198\n",
    "num_of_books = 30\n",
    "book_urls = []\n",
    "for num in range(1,num_of_pages+1):\n",
    "    result = requests.get(f\"https://www.arab-books.com//page/{num}\")\n",
    "    time.sleep(1)\n",
    "    src = result.content\n",
    "    soup = BeautifulSoup(src, \"lxml\")\n",
    "    all_a = soup.find_all(\"a\", class_=\"post-thumb\", limit=num_of_books)\n",
    "    book_urls.extend([a[\"href\"] for a in  all_a])"
   ]
  },
  {
   "cell_type": "markdown",
   "metadata": {},
   "source": [
    "I used Requests and BeautifulSoup to scrape the pages, and collect the URLs of the books.\n",
    "With a simple for loop it was easy to get the URLs, and save them to book_urls for later use."
   ]
  },
  {
   "cell_type": "markdown",
   "metadata": {},
   "source": [
    "### Note:\n",
    "- In case you are wondering, time.sleep(1) was needed for safety reasons:<br> it stopped the code from running for 1 sec, so the scraping process didn’t overload the web server with requests.\n",
    "- I used the limit parameter in findall method to restrict the number of links I get and that because every page has 30 books <br>so by doing that I will not get useful links."
   ]
  },
  {
   "cell_type": "code",
   "execution_count": 3,
   "metadata": {},
   "outputs": [
    {
     "name": "stdout",
     "output_type": "stream",
     "text": [
      "5940\n"
     ]
    }
   ],
   "source": [
    "print(len(book_urls))"
   ]
  },
  {
   "cell_type": "markdown",
   "metadata": {},
   "source": [
    "## Extracting data for every book"
   ]
  },
  {
   "cell_type": "code",
   "execution_count": 39,
   "metadata": {},
   "outputs": [],
   "source": [
    "books = []\n",
    "for book_url in book_urls:\n",
    "    book = {}\n",
    "    result = requests.get(book_url, allow_redirects=False)\n",
    "    src = result.content\n",
    "    if src == b'':\n",
    "        continue\n",
    "    else:\n",
    "        soup = BeautifulSoup(src, \"lxml\")\n",
    "        infos = list(soup.find(\"div\", class_='book-info').stripped_strings)\n",
    "        book[\"Author\"] = infos[1][4:]\n",
    "        book[\"title\"] = soup.find(\"h1\", class_=\"entry-title\").string\n",
    "        for info in infos:\n",
    "            if info == 'لغة الكتاب:':\n",
    "                book[\"language\"] = infos[infos.index(info)+1]\n",
    "            if info == 'عدد الصّفحات:':\n",
    "                book[\"pages\"] = infos[infos.index(info)+1]\n",
    "            if info == 'دار النشر:':\n",
    "                book[\"publishing house\"] = infos[infos.index(info)+1]\n",
    "            if info == 'حجم الكتاب:':\n",
    "                book[\"size\"] = infos[infos.index(info)+1]\n",
    "            if info == 'ملف الكتاب:':\n",
    "                book[\"format\"] = infos[infos.index(info)+1]\n",
    "            if info == 'قسم الكتاب:':\n",
    "                book[\"category\"] = infos[infos.index(info)+1][6:]\n",
    "        book[\"url\"] = book_url\n",
    "        books.append(book)"
   ]
  },
  {
   "cell_type": "code",
   "execution_count": 40,
   "metadata": {},
   "outputs": [
    {
     "name": "stdout",
     "output_type": "stream",
     "text": [
      "5937\n"
     ]
    }
   ],
   "source": [
    "print(len(books))"
   ]
  },
  {
   "cell_type": "markdown",
   "metadata": {},
   "source": [
    "Having gathered all books’ URLs, I could move on with the analysis by looping through book_urls with a for loop.\n",
    "<br>For each iteration I did the same process (Specify the URL, Extract the content, Scrape the specified page) and then\n",
    "<br>For every book I created a book dictionary in which I stored the following data:\n",
    "- (book[“Author”], string variable)\n",
    "- (book[“title”], string variable)\n",
    "- (book[“langyage”], string variable)\n",
    "- (book[“pages”], integer variable)\n",
    "- (book[“publishing house”], string variable)\n",
    "- (book[“size”], string variable)\n",
    "- (book[“format”], string variable)\n",
    "- (book[“category”], string variable)\n",
    "- (book[“url”], string variable)\n",
    "\n",
    "After a book dictionary was created, I added (books.append(book)) it to the books list which I’d created before."
   ]
  },
  {
   "cell_type": "markdown",
   "metadata": {},
   "source": [
    "### Note\n",
    "- If there’s more than one thing inside a tag, you can still look at just the strings. These strings tend to have a lot of extra whitespace, which you can remove by using the .stripped_strings generator\n",
    "- I converted stripped_strings output to list to get easy accessible to important data"
   ]
  },
  {
   "cell_type": "markdown",
   "metadata": {},
   "source": [
    "## Create CSV File"
   ]
  },
  {
   "cell_type": "code",
   "execution_count": 41,
   "metadata": {},
   "outputs": [],
   "source": [
    "# pass books to the DataFrame.\n",
    "df = pd.DataFrame(books)\n",
    "\n",
    "# Finally, save the dataframe as a CSV file.\n",
    "df.to_csv('books_info.csv', index=False, encoding='utf-8-sig')"
   ]
  },
  {
   "cell_type": "markdown",
   "metadata": {},
   "source": [
    "## Reading CSV File"
   ]
  },
  {
   "cell_type": "code",
   "execution_count": 42,
   "metadata": {},
   "outputs": [
    {
     "data": {
      "text/plain": [
       "(5937, 9)"
      ]
     },
     "execution_count": 42,
     "metadata": {},
     "output_type": "execute_result"
    }
   ],
   "source": [
    "df = pd.read_csv(\"books_info.csv\")\n",
    "df.shape"
   ]
  },
  {
   "cell_type": "markdown",
   "metadata": {},
   "source": [
    "The shape of the dataframe reveals that there are 5937 rows and 9 columns in my CSV file."
   ]
  },
  {
   "cell_type": "code",
   "execution_count": 43,
   "metadata": {},
   "outputs": [
    {
     "data": {
      "text/html": [
       "<div>\n",
       "<style scoped>\n",
       "    .dataframe tbody tr th:only-of-type {\n",
       "        vertical-align: middle;\n",
       "    }\n",
       "\n",
       "    .dataframe tbody tr th {\n",
       "        vertical-align: top;\n",
       "    }\n",
       "\n",
       "    .dataframe thead th {\n",
       "        text-align: right;\n",
       "    }\n",
       "</style>\n",
       "<table border=\"1\" class=\"dataframe\">\n",
       "  <thead>\n",
       "    <tr style=\"text-align: right;\">\n",
       "      <th></th>\n",
       "      <th>Author</th>\n",
       "      <th>title</th>\n",
       "      <th>category</th>\n",
       "      <th>language</th>\n",
       "      <th>pages</th>\n",
       "      <th>publishing house</th>\n",
       "      <th>size</th>\n",
       "      <th>format</th>\n",
       "      <th>url</th>\n",
       "    </tr>\n",
       "  </thead>\n",
       "  <tbody>\n",
       "    <tr>\n",
       "      <th>0</th>\n",
       "      <td>أبو الحسن علي الحسني الندوي</td>\n",
       "      <td>كتاب بين الصورة والحقيقة PDF</td>\n",
       "      <td>كتب اسلامية</td>\n",
       "      <td>عربي</td>\n",
       "      <td>20 صفحة</td>\n",
       "      <td>دار ابن كثير</td>\n",
       "      <td>329.8 كيلوبايت ميغابايت</td>\n",
       "      <td>pdf</td>\n",
       "      <td>https://www.arab-books.com/books/%d9%83%d8%aa%...</td>\n",
       "    </tr>\n",
       "    <tr>\n",
       "      <th>1</th>\n",
       "      <td>أبو الحسن علي الحسني الندوي</td>\n",
       "      <td>كتاب إلى قمة القيادة العالمية PDF</td>\n",
       "      <td>كتب اسلامية</td>\n",
       "      <td>عربي</td>\n",
       "      <td>15 صفحة</td>\n",
       "      <td>دار ابن كثير</td>\n",
       "      <td>903.7 كيلوبايت ميغابايت</td>\n",
       "      <td>pdf</td>\n",
       "      <td>https://www.arab-books.com/books/%d9%83%d8%aa%...</td>\n",
       "    </tr>\n",
       "    <tr>\n",
       "      <th>2</th>\n",
       "      <td>أبو الحسن علي الحسني الندوي</td>\n",
       "      <td>كتاب مذكرات الدعوة والداعية PDF</td>\n",
       "      <td>كتب اسلامية</td>\n",
       "      <td>عربي</td>\n",
       "      <td>324 صفحة</td>\n",
       "      <td>دار ابن كثير</td>\n",
       "      <td>2.4 ميغابايت</td>\n",
       "      <td>pdf</td>\n",
       "      <td>https://www.arab-books.com/books/%d9%83%d8%aa%...</td>\n",
       "    </tr>\n",
       "    <tr>\n",
       "      <th>3</th>\n",
       "      <td>أبو الحسن علي الحسني الندوي</td>\n",
       "      <td>كتاب ردة ولا أبا بكر لها PDF</td>\n",
       "      <td>كتب اسلامية</td>\n",
       "      <td>عربي</td>\n",
       "      <td>28 صفحة</td>\n",
       "      <td>دار ابن كثير</td>\n",
       "      <td>338.3 كيلوبايت ميغابايت</td>\n",
       "      <td>pdf</td>\n",
       "      <td>https://www.arab-books.com/books/%d9%83%d8%aa%...</td>\n",
       "    </tr>\n",
       "    <tr>\n",
       "      <th>4</th>\n",
       "      <td>أبو الحسن علي الحسني الندوي</td>\n",
       "      <td>كتاب الإسلام والحكم PDF</td>\n",
       "      <td>كتب اسلامية</td>\n",
       "      <td>عربي</td>\n",
       "      <td>31 صفحة</td>\n",
       "      <td>دار ابن كثير</td>\n",
       "      <td>556.1 كيلوبايت ميغابايت</td>\n",
       "      <td>تبليغ حقوق الملكية:</td>\n",
       "      <td>https://www.arab-books.com/books/%d9%83%d8%aa%...</td>\n",
       "    </tr>\n",
       "  </tbody>\n",
       "</table>\n",
       "</div>"
      ],
      "text/plain": [
       "                        Author                              title  \\\n",
       "0  أبو الحسن علي الحسني الندوي       كتاب بين الصورة والحقيقة PDF   \n",
       "1  أبو الحسن علي الحسني الندوي  كتاب إلى قمة القيادة العالمية PDF   \n",
       "2  أبو الحسن علي الحسني الندوي    كتاب مذكرات الدعوة والداعية PDF   \n",
       "3  أبو الحسن علي الحسني الندوي       كتاب ردة ولا أبا بكر لها PDF   \n",
       "4  أبو الحسن علي الحسني الندوي            كتاب الإسلام والحكم PDF   \n",
       "\n",
       "      category language     pages publishing house                     size  \\\n",
       "0  كتب اسلامية     عربي   20 صفحة     دار ابن كثير  329.8 كيلوبايت ميغابايت   \n",
       "1  كتب اسلامية     عربي   15 صفحة     دار ابن كثير  903.7 كيلوبايت ميغابايت   \n",
       "2  كتب اسلامية     عربي  324 صفحة     دار ابن كثير             2.4 ميغابايت   \n",
       "3  كتب اسلامية     عربي   28 صفحة     دار ابن كثير  338.3 كيلوبايت ميغابايت   \n",
       "4  كتب اسلامية     عربي   31 صفحة     دار ابن كثير  556.1 كيلوبايت ميغابايت   \n",
       "\n",
       "                format                                                url  \n",
       "0                  pdf  https://www.arab-books.com/books/%d9%83%d8%aa%...  \n",
       "1                  pdf  https://www.arab-books.com/books/%d9%83%d8%aa%...  \n",
       "2                  pdf  https://www.arab-books.com/books/%d9%83%d8%aa%...  \n",
       "3                  pdf  https://www.arab-books.com/books/%d9%83%d8%aa%...  \n",
       "4  تبليغ حقوق الملكية:  https://www.arab-books.com/books/%d9%83%d8%aa%...  "
      ]
     },
     "execution_count": 43,
     "metadata": {},
     "output_type": "execute_result"
    }
   ],
   "source": [
    "# Let's print the first 5 rows of the dataset.\n",
    "df.head()"
   ]
  },
  {
   "cell_type": "code",
   "execution_count": null,
   "metadata": {},
   "outputs": [],
   "source": [
    "df['pages'] = df['pages'].apply(lambda x: x.split()[0])\n",
    "df['pages'] = pd.to_numeric(df['pages'])"
   ]
  }
 ],
 "metadata": {
  "kernelspec": {
   "display_name": "Python 3",
   "language": "python",
   "name": "python3"
  },
  "language_info": {
   "codemirror_mode": {
    "name": "ipython",
    "version": 3
   },
   "file_extension": ".py",
   "mimetype": "text/x-python",
   "name": "python",
   "nbconvert_exporter": "python",
   "pygments_lexer": "ipython3",
   "version": "3.8.5"
  }
 },
 "nbformat": 4,
 "nbformat_minor": 4
}
